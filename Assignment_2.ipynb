{
 "cells": [
  {
   "cell_type": "markdown",
   "id": "8dbec0f7",
   "metadata": {},
   "source": [
    "# 1"
   ]
  },
  {
   "cell_type": "markdown",
   "id": "23b45698",
   "metadata": {},
   "source": [
    "Q.What are the two values of the Boolean data type? How do you write them?\n",
    "\n",
    "A.The two values of boolean data are true and false.\n",
    "They are written as'True' ,'False'."
   ]
  },
  {
   "cell_type": "markdown",
   "id": "2f343403",
   "metadata": {},
   "source": [
    "# 2"
   ]
  },
  {
   "cell_type": "code",
   "execution_count": null,
   "id": "8838b47c",
   "metadata": {},
   "outputs": [],
   "source": [
    "Q. What are the three different types of Boolean operators?\n",
    "\n",
    "A. or,not,and"
   ]
  },
  {
   "cell_type": "markdown",
   "id": "d1c77381",
   "metadata": {},
   "source": [
    "# 3"
   ]
  },
  {
   "cell_type": "markdown",
   "id": "c12a30e7",
   "metadata": {},
   "source": [
    "Q.Make a list of each Boolean operator's truth tables (i.e. every possible combination of Boolean\n",
    "values for the operator and what it evaluate ).\n",
    "\n",
    "A. or : True True=>True , True False=>True, False False=>False, False True=>True                            \n",
    "   and :True True=>True , True False=>False, False False=>False, False True=>False                    \n",
    "   not : True =>False ,False=>True\n",
    "   \n"
   ]
  },
  {
   "cell_type": "markdown",
   "id": "b7f8dd09",
   "metadata": {},
   "source": [
    "# 4"
   ]
  },
  {
   "cell_type": "markdown",
   "id": "eb0ffee6",
   "metadata": {},
   "source": [
    "Q.What are the values of the following expressions?\n",
    "\n",
    "\n",
    "A.\n",
    "(5 > 4) and (3 == 5)                     => Ans.False\n",
    "not (5 > 4)                              => Ans.False \n",
    "(5 >4) or (3 == 5)                       => Ans.True\n",
    "not ((5 > 4) or (3 == 5))                => Ans.False\n",
    "(True and True) and (True == False)      => Ans.False\n",
    "(not False) or (not True)                => Ans.True\n",
    "\n"
   ]
  },
  {
   "cell_type": "markdown",
   "id": "01c17e09",
   "metadata": {},
   "source": [
    "# 5"
   ]
  },
  {
   "cell_type": "markdown",
   "id": "995afc1a",
   "metadata": {},
   "source": [
    "Q.What are the six comparison operators?\n",
    "\n",
    "A.>,<.==,!=,>=,<="
   ]
  },
  {
   "cell_type": "markdown",
   "id": "657f29c3",
   "metadata": {},
   "source": [
    "# 6\n"
   ]
  },
  {
   "cell_type": "markdown",
   "id": "07c8bbd9",
   "metadata": {},
   "source": [
    "Q.How do you tell the difference between the equal to and assignment operators?Describe a\n",
    "condition and when you would use one.\n",
    "\n",
    "A.equal to operator is \"==\", aasignment operator is \"=\".\n",
    " if you want to assign a value to variable then assignment operator is used. Example:x=6\n",
    "    we use equal to operator to campare the variable value to oue value .Example:x==6"
   ]
  },
  {
   "cell_type": "markdown",
   "id": "2d912029",
   "metadata": {},
   "source": [
    "# 7"
   ]
  },
  {
   "cell_type": "markdown",
   "id": "1a1ba0e4",
   "metadata": {},
   "source": [
    "Q.Identify the three blocks in this code:\n",
    "spam = 0\n",
    "if spam == 10:\n",
    "    print('eggs')\n",
    "if spam  5:\n",
    "    print('bacon')\n",
    "else:\n",
    "    print('ham')\n",
    "    print('spam')\n",
    "    print('spam')\n",
    "    \n",
    "    \n",
    "A. 1st block - spam = 0\n",
    "\n",
    "\n",
    "   2nd block - if spam == 10:\n",
    "                   print('eggs')\n",
    "            \n",
    "            \n",
    "            \n",
    "   3rd block - if spam  5:\n",
    "                   print('bacon')\n",
    "               else:\n",
    "                    print('ham')\n",
    "                    print('spam')\n",
    "                    print('spam')"
   ]
  },
  {
   "cell_type": "markdown",
   "id": "2cb7164a",
   "metadata": {},
   "source": [
    "# 8"
   ]
  },
  {
   "cell_type": "code",
   "execution_count": null,
   "id": "3c43af00",
   "metadata": {},
   "outputs": [],
   "source": [
    "Q. Write code that prints Hello if 1 is stored in spam, prints Howdy if 2 is stored in spam, and prints\n",
    "Greetings! if anything else is stored in spam."
   ]
  },
  {
   "cell_type": "code",
   "execution_count": 4,
   "id": "e89fbd1c",
   "metadata": {},
   "outputs": [
    {
     "name": "stdout",
     "output_type": "stream",
     "text": [
      "enter a number2\n",
      "Howdy\n"
     ]
    }
   ],
   "source": [
    "#Answer\n",
    "spam =int(input(\"enter a number:\"))\n",
    "if spam ==1:\n",
    "    print(\"Hello\")\n",
    "elif spam == 2:\n",
    "    print(\"Howdy\")\n",
    "else:\n",
    "    print(\"Greetings!\")"
   ]
  },
  {
   "cell_type": "markdown",
   "id": "c8393b7b",
   "metadata": {},
   "source": [
    "# 9 "
   ]
  },
  {
   "cell_type": "markdown",
   "id": "ab12c9d0",
   "metadata": {},
   "source": [
    "Q.If your programme is stuck in an endless loop, what keys you’ll press?\n",
    "\n",
    "A.ctrl+c"
   ]
  },
  {
   "cell_type": "markdown",
   "id": "40ef464b",
   "metadata": {},
   "source": [
    "# 10"
   ]
  },
  {
   "cell_type": "markdown",
   "id": "d17b52bc",
   "metadata": {},
   "source": [
    "Q. How can you tell the difference between break and continue?\n",
    "\n",
    "A.when the programme executes break statement it comes out of that loop irrespective of the condition.\n",
    " whereas in case of continue skips the next statements in the loop and starts next iteration"
   ]
  },
  {
   "cell_type": "markdown",
   "id": "2c5a9a25",
   "metadata": {},
   "source": [
    "# 11"
   ]
  },
  {
   "cell_type": "markdown",
   "id": "a3f0024b",
   "metadata": {},
   "source": [
    "Q.In a for loop, what is the difference between range(10), range(0, 10), and range(0, 10, 1)?\n",
    "\n",
    "A. All three represents same range i.e 1 to 9."
   ]
  },
  {
   "cell_type": "markdown",
   "id": "7a8c457f",
   "metadata": {},
   "source": [
    "# 12"
   ]
  },
  {
   "cell_type": "code",
   "execution_count": null,
   "id": "f38df1b8",
   "metadata": {},
   "outputs": [],
   "source": [
    "Q.Write a short program that prints the numbers 1 to 10 using a for loop. Then write an equivalent\n",
    "program that prints the numbers 1 to 10 using a while loop.\n"
   ]
  },
  {
   "cell_type": "code",
   "execution_count": 1,
   "id": "e5390dd8",
   "metadata": {},
   "outputs": [
    {
     "name": "stdout",
     "output_type": "stream",
     "text": [
      "1\n",
      "2\n",
      "3\n",
      "4\n",
      "5\n",
      "6\n",
      "7\n",
      "8\n",
      "9\n",
      "10\n"
     ]
    }
   ],
   "source": [
    "# using for loop \n",
    "for i in range(1,11):\n",
    "    print(i)"
   ]
  },
  {
   "cell_type": "code",
   "execution_count": 2,
   "id": "eed1359b",
   "metadata": {},
   "outputs": [
    {
     "name": "stdout",
     "output_type": "stream",
     "text": [
      "1\n",
      "2\n",
      "3\n",
      "4\n",
      "5\n",
      "6\n",
      "7\n",
      "8\n",
      "9\n",
      "10\n"
     ]
    }
   ],
   "source": [
    "# using while loop\n",
    "i=1 \n",
    "while i<=10:\n",
    "    print(i)\n",
    "    i=i+1"
   ]
  },
  {
   "cell_type": "markdown",
   "id": "c1d37232",
   "metadata": {},
   "source": [
    "# 13"
   ]
  },
  {
   "cell_type": "markdown",
   "id": "1c056e7a",
   "metadata": {},
   "source": [
    "Q. If you had a function named bacon() inside a module named spam, how would you call it after\n",
    "importing spam?\n",
    "\n",
    "A. spam.bacon()"
   ]
  },
  {
   "cell_type": "code",
   "execution_count": null,
   "id": "b70fe80f",
   "metadata": {},
   "outputs": [],
   "source": []
  }
 ],
 "metadata": {
  "kernelspec": {
   "display_name": "Python 3 (ipykernel)",
   "language": "python",
   "name": "python3"
  },
  "language_info": {
   "codemirror_mode": {
    "name": "ipython",
    "version": 3
   },
   "file_extension": ".py",
   "mimetype": "text/x-python",
   "name": "python",
   "nbconvert_exporter": "python",
   "pygments_lexer": "ipython3",
   "version": "3.9.7"
  }
 },
 "nbformat": 4,
 "nbformat_minor": 5
}
