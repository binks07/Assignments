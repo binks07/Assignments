{
 "cells": [
  {
   "cell_type": "raw",
   "id": "243a9dbd",
   "metadata": {},
   "source": [
    "1. In the below elements which of them are values or an expression? eg:- values can be\n",
    "integer or string and expressions will be mathematical operators.\n",
    "*\n",
    "'hello'\n",
    "-87.8\n",
    "-\n",
    "/\n",
    "+\n",
    "6\n",
    "\n",
    "A: *,-,+,/ are expressions because they are mathematical expressions.\n",
    "   'hello' is a string , -87.8 is float value ,6 is integer. Therefore 'hello',6 and -87.8 are values."
   ]
  },
  {
   "cell_type": "raw",
   "id": "020bebac",
   "metadata": {},
   "source": [
    "2. What is the difference between string and variable?\n",
    "\n",
    "A: Variable is where we can store values or data of diffent data types where as string is considered as value where the\n",
    "characters are enclosed in single ,double and triple quotes.\n",
    "    "
   ]
  },
  {
   "cell_type": "raw",
   "id": "d2b45ca9",
   "metadata": {},
   "source": [
    "3. Describe three different data types.\n",
    "\n",
    "A: I am describing int , complex and boolean datatypes.\n",
    "   int : A value is considered to be int datatype when the value belongs to integer set. eg:-5,7 etc\n",
    "   complex: A value is considered to be complex datatype when it is in complex form. eg: 6+5j,8j etc\n",
    "   Boolean: Boolean datatype has only two values that is True and False ."
   ]
  },
  {
   "cell_type": "raw",
   "id": "37fc4e11",
   "metadata": {},
   "source": [
    "4. What is an expression made up of? What do all expressions do?\n",
    "\n",
    "A: An expression is made of mathematical operators.variables and numeric values . All expressions get evaluated. "
   ]
  },
  {
   "cell_type": "raw",
   "id": "79f3c361",
   "metadata": {},
   "source": [
    "5. This assignment statements, like spam = 10. What is the difference between an\n",
    "expression and a statement?\n",
    "\n",
    "A: Expression needs to be evaluated where as statement means assigning a value or expression to a variable."
   ]
  },
  {
   "cell_type": "raw",
   "id": "43bc1c35",
   "metadata": {},
   "source": [
    "6. After running the following code, what does the variable bacon contain?\n",
    "bacon = 22\n",
    "bacon + 1\n",
    "\n",
    "A: bacon variable will contain 22 because the added value is not assigned back to bacon variable."
   ]
  },
  {
   "cell_type": "code",
   "execution_count": 3,
   "id": "231a1520",
   "metadata": {},
   "outputs": [
    {
     "name": "stdout",
     "output_type": "stream",
     "text": [
      "22\n"
     ]
    }
   ],
   "source": [
    "bacon=22\n",
    "bacon+1\n",
    "print(bacon)"
   ]
  },
  {
   "cell_type": "raw",
   "id": "068b1339",
   "metadata": {},
   "source": [
    "7. What should the values of the following two terms be?\n",
    "'spam' + 'spamspam'\n",
    "'spam' * 3\n",
    "\n",
    "A: both of the expressions value will be 'spamspamspam' ."
   ]
  },
  {
   "cell_type": "raw",
   "id": "9938f708",
   "metadata": {},
   "source": [
    "8. Why is eggs a valid variable name while 100 is invalid?\n",
    "\n",
    "A: eggs is valid variable because it is not in any datatype form and a variable can start with letter or underscore ,\n",
    "   it cannot start with a digit . so, 100 is invalid variable."
   ]
  },
  {
   "cell_type": "raw",
   "id": "19cdb56e",
   "metadata": {},
   "source": [
    "9. What three functions can be used to get the integer, floating-point number, or string\n",
    "version of a value?\n",
    "\n",
    "A: The three functions that can be used are int(value),float(value) and str(value)"
   ]
  },
  {
   "cell_type": "raw",
   "id": "2d12f73a",
   "metadata": {},
   "source": [
    "10. Why does this expression cause an error? How can you fix it?\n",
    "'I have eaten'+ 99 +'burritos'\n",
    "\n",
    "A: in the above expression string concatenation is happening .As we know 99 is int datatype which is causing error .\n",
    "    we can fix the error by converting 99 into string datatype using str(99)."
   ]
  },
  {
   "cell_type": "code",
   "execution_count": null,
   "id": "b4c4908f",
   "metadata": {},
   "outputs": [],
   "source": []
  }
 ],
 "metadata": {
  "kernelspec": {
   "display_name": "Python 3 (ipykernel)",
   "language": "python",
   "name": "python3"
  },
  "language_info": {
   "codemirror_mode": {
    "name": "ipython",
    "version": 3
   },
   "file_extension": ".py",
   "mimetype": "text/x-python",
   "name": "python",
   "nbconvert_exporter": "python",
   "pygments_lexer": "ipython3",
   "version": "3.9.7"
  }
 },
 "nbformat": 4,
 "nbformat_minor": 5
}
